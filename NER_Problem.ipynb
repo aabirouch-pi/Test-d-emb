{
  "nbformat": 4,
  "nbformat_minor": 0,
  "metadata": {
    "colab": {
      "name": "NER Problem.ipynb",
      "provenance": []
    },
    "kernelspec": {
      "name": "python3",
      "display_name": "Python 3"
    },
    "language_info": {
      "name": "python"
    }
  },
  "cells": [
    {
      "cell_type": "markdown",
      "metadata": {
        "id": "uDE92HYhSLuf"
      },
      "source": [
        "## **Preprocessing:**"
      ]
    },
    {
      "cell_type": "code",
      "metadata": {
        "colab": {
          "base_uri": "https://localhost:8080/"
        },
        "id": "-Lo51CH6ikfE",
        "outputId": "f2e77156-afde-40d8-90bc-b5b51f5bf06b"
      },
      "source": [
        "import pandas as pd\n",
        "from nltk.tokenize import word_tokenize\n",
        "import nltk\n",
        "import numpy as np\n",
        "nltk.download('punkt')"
      ],
      "execution_count": null,
      "outputs": [
        {
          "output_type": "stream",
          "text": [
            "[nltk_data] Downloading package punkt to /root/nltk_data...\n",
            "[nltk_data]   Package punkt is already up-to-date!\n"
          ],
          "name": "stdout"
        },
        {
          "output_type": "execute_result",
          "data": {
            "text/plain": [
              "True"
            ]
          },
          "metadata": {
            "tags": []
          },
          "execution_count": 52
        }
      ]
    },
    {
      "cell_type": "code",
      "metadata": {
        "id": "K263BwhziEMK"
      },
      "source": [
        "train = pd.read_csv(\"/content/drive/MyDrive/FreeLance_Projects/test embauche/TEST-DATASCIENTIST/PROBLEM2/train.csv\")\n",
        "test = pd.read_csv(\"/content/drive/MyDrive/FreeLance_Projects/test embauche/TEST-DATASCIENTIST/PROBLEM2/test.csv\")"
      ],
      "execution_count": null,
      "outputs": []
    },
    {
      "cell_type": "code",
      "metadata": {
        "colab": {
          "base_uri": "https://localhost:8080/",
          "height": 194
        },
        "id": "NX56yWpWipvE",
        "outputId": "5b2ac721-0b66-467b-cf04-3f13a26f5b57"
      },
      "source": [
        "train.head()"
      ],
      "execution_count": null,
      "outputs": [
        {
          "output_type": "execute_result",
          "data": {
            "text/html": [
              "<div>\n",
              "<style scoped>\n",
              "    .dataframe tbody tr th:only-of-type {\n",
              "        vertical-align: middle;\n",
              "    }\n",
              "\n",
              "    .dataframe tbody tr th {\n",
              "        vertical-align: top;\n",
              "    }\n",
              "\n",
              "    .dataframe thead th {\n",
              "        text-align: right;\n",
              "    }\n",
              "</style>\n",
              "<table border=\"1\" class=\"dataframe\">\n",
              "  <thead>\n",
              "    <tr style=\"text-align: right;\">\n",
              "      <th></th>\n",
              "      <th>Unnamed: 0</th>\n",
              "      <th>sentence</th>\n",
              "      <th>label</th>\n",
              "    </tr>\n",
              "  </thead>\n",
              "  <tbody>\n",
              "    <tr>\n",
              "      <th>0</th>\n",
              "      <td>0</td>\n",
              "      <td>TTC  640,00</td>\n",
              "      <td>640,00</td>\n",
              "    </tr>\n",
              "    <tr>\n",
              "      <th>1</th>\n",
              "      <td>1</td>\n",
              "      <td>TOTAL A PAYEE  640,00 sad</td>\n",
              "      <td>640,00</td>\n",
              "    </tr>\n",
              "    <tr>\n",
              "      <th>2</th>\n",
              "      <td>2</td>\n",
              "      <td>Total 130,00 MAD</td>\n",
              "      <td>130,00</td>\n",
              "    </tr>\n",
              "    <tr>\n",
              "      <th>3</th>\n",
              "      <td>3</td>\n",
              "      <td>Sous Total 108,33 MAD TVA 21,67 MAD Total 130...</td>\n",
              "      <td>130,00</td>\n",
              "    </tr>\n",
              "    <tr>\n",
              "      <th>4</th>\n",
              "      <td>4</td>\n",
              "      <td>TOTAL FACTURE EN DIRHAMS TTC 350,00</td>\n",
              "      <td>350,00</td>\n",
              "    </tr>\n",
              "  </tbody>\n",
              "</table>\n",
              "</div>"
            ],
            "text/plain": [
              "   Unnamed: 0                                           sentence   label\n",
              "0           0                                        TTC  640,00  640,00\n",
              "1           1                          TOTAL A PAYEE  640,00 sad  640,00\n",
              "2           2                                   Total 130,00 MAD  130,00\n",
              "3           3   Sous Total 108,33 MAD TVA 21,67 MAD Total 130...  130,00\n",
              "4           4                TOTAL FACTURE EN DIRHAMS TTC 350,00  350,00"
            ]
          },
          "metadata": {
            "tags": []
          },
          "execution_count": 74
        }
      ]
    },
    {
      "cell_type": "code",
      "metadata": {
        "id": "B0xTP851isBI"
      },
      "source": [
        "# Tokenization:\n",
        "train['sentence'] = [word_tokenize(comment) for comment in train['sentence']]\n",
        "test['sentence'] = [word_tokenize(comment) for comment in test['sentence']]"
      ],
      "execution_count": null,
      "outputs": []
    },
    {
      "cell_type": "code",
      "metadata": {
        "id": "aA5eahuBkJSC"
      },
      "source": [
        "# Here, we range sentences by words and separate between them using <SENT_DELIMITER>\n",
        "def range_sent(data_frame):\n",
        "  sent_list = [] # This list will recieve all the sentences.\n",
        "  label_ttc = []\n",
        "  for i in range(len(data_frame['sentence'])):\n",
        "      for j in range(len(data_frame['sentence'][i])):\n",
        "          sent_list.append(data_frame['sentence'][i][j].lower())\n",
        "          label_ttc.append(data_frame['label'][i])\n",
        "      sent_list.append(\"<SENT_DELIMITER>\")\n",
        "      label_ttc.append(\"<SENT_DELIMITER>\")     \n",
        "    \n",
        "\n",
        "\n",
        "  data = list(zip(sent_list,label_ttc))\n",
        "  data_df = pd.DataFrame(data, columns=['word','label_ttc'])\n",
        "\n",
        "  return data_df\n",
        "\n",
        "train = range_sent(train)\n",
        "test = range_sent(test)"
      ],
      "execution_count": null,
      "outputs": []
    },
    {
      "cell_type": "code",
      "metadata": {
        "colab": {
          "base_uri": "https://localhost:8080/",
          "height": 340
        },
        "id": "YlEE1c3DkSCk",
        "outputId": "6ee2200e-66d0-48fd-a36e-5a871ad67929"
      },
      "source": [
        "train.head(10)"
      ],
      "execution_count": null,
      "outputs": [
        {
          "output_type": "execute_result",
          "data": {
            "text/html": [
              "<div>\n",
              "<style scoped>\n",
              "    .dataframe tbody tr th:only-of-type {\n",
              "        vertical-align: middle;\n",
              "    }\n",
              "\n",
              "    .dataframe tbody tr th {\n",
              "        vertical-align: top;\n",
              "    }\n",
              "\n",
              "    .dataframe thead th {\n",
              "        text-align: right;\n",
              "    }\n",
              "</style>\n",
              "<table border=\"1\" class=\"dataframe\">\n",
              "  <thead>\n",
              "    <tr style=\"text-align: right;\">\n",
              "      <th></th>\n",
              "      <th>word</th>\n",
              "      <th>label_ttc</th>\n",
              "    </tr>\n",
              "  </thead>\n",
              "  <tbody>\n",
              "    <tr>\n",
              "      <th>0</th>\n",
              "      <td>ttc</td>\n",
              "      <td>640,00</td>\n",
              "    </tr>\n",
              "    <tr>\n",
              "      <th>1</th>\n",
              "      <td>640,00</td>\n",
              "      <td>640,00</td>\n",
              "    </tr>\n",
              "    <tr>\n",
              "      <th>2</th>\n",
              "      <td>&lt;SENT_DELIMITER&gt;</td>\n",
              "      <td>&lt;SENT_DELIMITER&gt;</td>\n",
              "    </tr>\n",
              "    <tr>\n",
              "      <th>3</th>\n",
              "      <td>total</td>\n",
              "      <td>640,00</td>\n",
              "    </tr>\n",
              "    <tr>\n",
              "      <th>4</th>\n",
              "      <td>a</td>\n",
              "      <td>640,00</td>\n",
              "    </tr>\n",
              "    <tr>\n",
              "      <th>5</th>\n",
              "      <td>payee</td>\n",
              "      <td>640,00</td>\n",
              "    </tr>\n",
              "    <tr>\n",
              "      <th>6</th>\n",
              "      <td>640,00</td>\n",
              "      <td>640,00</td>\n",
              "    </tr>\n",
              "    <tr>\n",
              "      <th>7</th>\n",
              "      <td>sad</td>\n",
              "      <td>640,00</td>\n",
              "    </tr>\n",
              "    <tr>\n",
              "      <th>8</th>\n",
              "      <td>&lt;SENT_DELIMITER&gt;</td>\n",
              "      <td>&lt;SENT_DELIMITER&gt;</td>\n",
              "    </tr>\n",
              "    <tr>\n",
              "      <th>9</th>\n",
              "      <td>total</td>\n",
              "      <td>130,00</td>\n",
              "    </tr>\n",
              "  </tbody>\n",
              "</table>\n",
              "</div>"
            ],
            "text/plain": [
              "               word         label_ttc\n",
              "0               ttc            640,00\n",
              "1            640,00            640,00\n",
              "2  <SENT_DELIMITER>  <SENT_DELIMITER>\n",
              "3             total            640,00\n",
              "4                 a            640,00\n",
              "5             payee            640,00\n",
              "6            640,00            640,00\n",
              "7               sad            640,00\n",
              "8  <SENT_DELIMITER>  <SENT_DELIMITER>\n",
              "9             total            130,00"
            ]
          },
          "metadata": {
            "tags": []
          },
          "execution_count": 77
        }
      ]
    },
    {
      "cell_type": "code",
      "metadata": {
        "id": "C3Zl8bXMkkT9"
      },
      "source": [
        "def form_data(data_frame):\n",
        "  for i in range(len(data_frame)):\n",
        "    if data_frame[\"label_ttc\"][i] == data_frame[\"word\"][i]:\n",
        "      data_frame[\"label_ttc\"][i] = \"TTC\"\n",
        "    else:\n",
        "      data_frame[\"label_ttc\"][i] = \"O\"\n",
        "  return data_frame\n",
        "\n",
        "train_data = form_data(train)\n",
        "test_data = form_data(test)"
      ],
      "execution_count": null,
      "outputs": []
    },
    {
      "cell_type": "code",
      "metadata": {
        "colab": {
          "base_uri": "https://localhost:8080/",
          "height": 399
        },
        "id": "m3SkQ-P8ryim",
        "outputId": "ae60dabf-dbd5-46dc-edfe-1b231a7858e7"
      },
      "source": [
        "train_data"
      ],
      "execution_count": null,
      "outputs": [
        {
          "output_type": "execute_result",
          "data": {
            "text/html": [
              "<div>\n",
              "<style scoped>\n",
              "    .dataframe tbody tr th:only-of-type {\n",
              "        vertical-align: middle;\n",
              "    }\n",
              "\n",
              "    .dataframe tbody tr th {\n",
              "        vertical-align: top;\n",
              "    }\n",
              "\n",
              "    .dataframe thead th {\n",
              "        text-align: right;\n",
              "    }\n",
              "</style>\n",
              "<table border=\"1\" class=\"dataframe\">\n",
              "  <thead>\n",
              "    <tr style=\"text-align: right;\">\n",
              "      <th></th>\n",
              "      <th>word</th>\n",
              "      <th>label_ttc</th>\n",
              "    </tr>\n",
              "  </thead>\n",
              "  <tbody>\n",
              "    <tr>\n",
              "      <th>0</th>\n",
              "      <td>ttc</td>\n",
              "      <td>O</td>\n",
              "    </tr>\n",
              "    <tr>\n",
              "      <th>1</th>\n",
              "      <td>640,00</td>\n",
              "      <td>TTC</td>\n",
              "    </tr>\n",
              "    <tr>\n",
              "      <th>2</th>\n",
              "      <td>&lt;SENT_DELIMITER&gt;</td>\n",
              "      <td>TTC</td>\n",
              "    </tr>\n",
              "    <tr>\n",
              "      <th>3</th>\n",
              "      <td>total</td>\n",
              "      <td>O</td>\n",
              "    </tr>\n",
              "    <tr>\n",
              "      <th>4</th>\n",
              "      <td>a</td>\n",
              "      <td>O</td>\n",
              "    </tr>\n",
              "    <tr>\n",
              "      <th>...</th>\n",
              "      <td>...</td>\n",
              "      <td>...</td>\n",
              "    </tr>\n",
              "    <tr>\n",
              "      <th>1953</th>\n",
              "      <td>a</td>\n",
              "      <td>O</td>\n",
              "    </tr>\n",
              "    <tr>\n",
              "      <th>1954</th>\n",
              "      <td>payee</td>\n",
              "      <td>O</td>\n",
              "    </tr>\n",
              "    <tr>\n",
              "      <th>1955</th>\n",
              "      <td>350,001</td>\n",
              "      <td>O</td>\n",
              "    </tr>\n",
              "    <tr>\n",
              "      <th>1956</th>\n",
              "      <td>au</td>\n",
              "      <td>O</td>\n",
              "    </tr>\n",
              "    <tr>\n",
              "      <th>1957</th>\n",
              "      <td>&lt;SENT_DELIMITER&gt;</td>\n",
              "      <td>TTC</td>\n",
              "    </tr>\n",
              "  </tbody>\n",
              "</table>\n",
              "<p>1958 rows × 2 columns</p>\n",
              "</div>"
            ],
            "text/plain": [
              "                  word label_ttc\n",
              "0                  ttc         O\n",
              "1               640,00       TTC\n",
              "2     <SENT_DELIMITER>       TTC\n",
              "3                total         O\n",
              "4                    a         O\n",
              "...                ...       ...\n",
              "1953                 a         O\n",
              "1954             payee         O\n",
              "1955           350,001         O\n",
              "1956                au         O\n",
              "1957  <SENT_DELIMITER>       TTC\n",
              "\n",
              "[1958 rows x 2 columns]"
            ]
          },
          "metadata": {
            "tags": []
          },
          "execution_count": 79
        }
      ]
    },
    {
      "cell_type": "code",
      "metadata": {
        "colab": {
          "base_uri": "https://localhost:8080/"
        },
        "id": "5w3gwlFRr0DQ",
        "outputId": "d20f9d91-0c9f-47bf-d203-8521e58c00be"
      },
      "source": [
        "# Adding Sentence tags:\n",
        "def add_sent_tags(data_frame):\n",
        "  data_frame[\"sentence\"]=np.nan\n",
        "\n",
        "  delimiter = \"<SENT_DELIMITER>\"\n",
        "  s=1\n",
        "  for i in range(len(data_frame[\"word\"])):\n",
        "      if data_frame[\"word\"][i] != delimiter:\n",
        "          data_frame[\"sentence\"][i]=\"sentence_\"+str(s)\n",
        "      else:\n",
        "          data_frame[\"sentence\"][i]=\"sentence_\"+str(s)\n",
        "          s=s+1\n",
        "  data_frame.drop(data_frame[data_frame.word == \"<SENT_DELIMITER>\"].index, inplace=True)\n",
        "  data_frame = data_frame.reset_index(drop=True)\n",
        "  return data_frame\n",
        "\n",
        "train_data = add_sent_tags(train_data)\n",
        "test_data = add_sent_tags(test_data)"
      ],
      "execution_count": null,
      "outputs": [
        {
          "output_type": "stream",
          "text": [
            "/usr/local/lib/python3.7/dist-packages/ipykernel_launcher.py:9: SettingWithCopyWarning: \n",
            "A value is trying to be set on a copy of a slice from a DataFrame\n",
            "\n",
            "See the caveats in the documentation: https://pandas.pydata.org/pandas-docs/stable/user_guide/indexing.html#returning-a-view-versus-a-copy\n",
            "  if __name__ == '__main__':\n",
            "/usr/local/lib/python3.7/dist-packages/pandas/core/indexing.py:670: SettingWithCopyWarning: \n",
            "A value is trying to be set on a copy of a slice from a DataFrame\n",
            "\n",
            "See the caveats in the documentation: https://pandas.pydata.org/pandas-docs/stable/user_guide/indexing.html#returning-a-view-versus-a-copy\n",
            "  iloc._setitem_with_indexer(indexer, value)\n"
          ],
          "name": "stderr"
        }
      ]
    },
    {
      "cell_type": "code",
      "metadata": {
        "colab": {
          "base_uri": "https://localhost:8080/",
          "height": 399
        },
        "id": "SAeeROJ3t0fv",
        "outputId": "797ef612-12f6-4b72-d225-b438eae504ee"
      },
      "source": [
        "train_data"
      ],
      "execution_count": null,
      "outputs": [
        {
          "output_type": "execute_result",
          "data": {
            "text/html": [
              "<div>\n",
              "<style scoped>\n",
              "    .dataframe tbody tr th:only-of-type {\n",
              "        vertical-align: middle;\n",
              "    }\n",
              "\n",
              "    .dataframe tbody tr th {\n",
              "        vertical-align: top;\n",
              "    }\n",
              "\n",
              "    .dataframe thead th {\n",
              "        text-align: right;\n",
              "    }\n",
              "</style>\n",
              "<table border=\"1\" class=\"dataframe\">\n",
              "  <thead>\n",
              "    <tr style=\"text-align: right;\">\n",
              "      <th></th>\n",
              "      <th>word</th>\n",
              "      <th>label_ttc</th>\n",
              "      <th>sentence</th>\n",
              "    </tr>\n",
              "  </thead>\n",
              "  <tbody>\n",
              "    <tr>\n",
              "      <th>0</th>\n",
              "      <td>ttc</td>\n",
              "      <td>O</td>\n",
              "      <td>sentence_1</td>\n",
              "    </tr>\n",
              "    <tr>\n",
              "      <th>1</th>\n",
              "      <td>640,00</td>\n",
              "      <td>TTC</td>\n",
              "      <td>sentence_1</td>\n",
              "    </tr>\n",
              "    <tr>\n",
              "      <th>2</th>\n",
              "      <td>total</td>\n",
              "      <td>O</td>\n",
              "      <td>sentence_2</td>\n",
              "    </tr>\n",
              "    <tr>\n",
              "      <th>3</th>\n",
              "      <td>a</td>\n",
              "      <td>O</td>\n",
              "      <td>sentence_2</td>\n",
              "    </tr>\n",
              "    <tr>\n",
              "      <th>4</th>\n",
              "      <td>payee</td>\n",
              "      <td>O</td>\n",
              "      <td>sentence_2</td>\n",
              "    </tr>\n",
              "    <tr>\n",
              "      <th>...</th>\n",
              "      <td>...</td>\n",
              "      <td>...</td>\n",
              "      <td>...</td>\n",
              "    </tr>\n",
              "    <tr>\n",
              "      <th>1611</th>\n",
              "      <td>total</td>\n",
              "      <td>O</td>\n",
              "      <td>sentence_342</td>\n",
              "    </tr>\n",
              "    <tr>\n",
              "      <th>1612</th>\n",
              "      <td>a</td>\n",
              "      <td>O</td>\n",
              "      <td>sentence_342</td>\n",
              "    </tr>\n",
              "    <tr>\n",
              "      <th>1613</th>\n",
              "      <td>payee</td>\n",
              "      <td>O</td>\n",
              "      <td>sentence_342</td>\n",
              "    </tr>\n",
              "    <tr>\n",
              "      <th>1614</th>\n",
              "      <td>350,001</td>\n",
              "      <td>O</td>\n",
              "      <td>sentence_342</td>\n",
              "    </tr>\n",
              "    <tr>\n",
              "      <th>1615</th>\n",
              "      <td>au</td>\n",
              "      <td>O</td>\n",
              "      <td>sentence_342</td>\n",
              "    </tr>\n",
              "  </tbody>\n",
              "</table>\n",
              "<p>1616 rows × 3 columns</p>\n",
              "</div>"
            ],
            "text/plain": [
              "         word label_ttc      sentence\n",
              "0         ttc         O    sentence_1\n",
              "1      640,00       TTC    sentence_1\n",
              "2       total         O    sentence_2\n",
              "3           a         O    sentence_2\n",
              "4       payee         O    sentence_2\n",
              "...       ...       ...           ...\n",
              "1611    total         O  sentence_342\n",
              "1612        a         O  sentence_342\n",
              "1613    payee         O  sentence_342\n",
              "1614  350,001         O  sentence_342\n",
              "1615       au         O  sentence_342\n",
              "\n",
              "[1616 rows x 3 columns]"
            ]
          },
          "metadata": {
            "tags": []
          },
          "execution_count": 81
        }
      ]
    },
    {
      "cell_type": "code",
      "metadata": {
        "id": "n4zzjPV4t6YU"
      },
      "source": [
        "train_data.to_csv(\"/content/drive/MyDrive/FreeLance_Projects/test embauche/TEST-DATASCIENTIST/PROBLEM2/train_data.csv\")\n",
        "test_data.to_csv(\"/content/drive/MyDrive/FreeLance_Projects/test embauche/TEST-DATASCIENTIST/PROBLEM2/test_data.csv\")"
      ],
      "execution_count": null,
      "outputs": []
    },
    {
      "cell_type": "markdown",
      "metadata": {
        "id": "RXU1jA_fzHeU"
      },
      "source": [
        "### **Model and Feature Engineering:**"
      ]
    },
    {
      "cell_type": "code",
      "metadata": {
        "colab": {
          "base_uri": "https://localhost:8080/"
        },
        "id": "HXge3ZCIipda",
        "outputId": "7f71ac8c-d3b5-4656-ec13-56d999efa118"
      },
      "source": [
        "!pip install git+https://www.github.com/keras-team/keras-contrib.git"
      ],
      "execution_count": 1,
      "outputs": [
        {
          "output_type": "stream",
          "text": [
            "Collecting git+https://www.github.com/keras-team/keras-contrib.git\n",
            "  Cloning https://www.github.com/keras-team/keras-contrib.git to /tmp/pip-req-build-6q0tvupu\n",
            "  Running command git clone -q https://www.github.com/keras-team/keras-contrib.git /tmp/pip-req-build-6q0tvupu\n",
            "Requirement already satisfied: keras in /usr/local/lib/python3.7/dist-packages (from keras-contrib==2.0.8) (2.4.3)\n",
            "Requirement already satisfied: numpy>=1.9.1 in /usr/local/lib/python3.7/dist-packages (from keras->keras-contrib==2.0.8) (1.19.5)\n",
            "Requirement already satisfied: h5py in /usr/local/lib/python3.7/dist-packages (from keras->keras-contrib==2.0.8) (3.1.0)\n",
            "Requirement already satisfied: pyyaml in /usr/local/lib/python3.7/dist-packages (from keras->keras-contrib==2.0.8) (3.13)\n",
            "Requirement already satisfied: scipy>=0.14 in /usr/local/lib/python3.7/dist-packages (from keras->keras-contrib==2.0.8) (1.4.1)\n",
            "Requirement already satisfied: cached-property; python_version < \"3.8\" in /usr/local/lib/python3.7/dist-packages (from h5py->keras->keras-contrib==2.0.8) (1.5.2)\n",
            "Building wheels for collected packages: keras-contrib\n",
            "  Building wheel for keras-contrib (setup.py) ... \u001b[?25l\u001b[?25hdone\n",
            "  Created wheel for keras-contrib: filename=keras_contrib-2.0.8-cp37-none-any.whl size=101078 sha256=60fa1238fb6ef3e87a9391d51efc56ab230090fa8196bb1ef7f96fa1918cc266\n",
            "  Stored in directory: /tmp/pip-ephem-wheel-cache-x__mpqcw/wheels/11/27/c8/4ed56de7b55f4f61244e2dc6ef3cdbaff2692527a2ce6502ba\n",
            "Successfully built keras-contrib\n",
            "Installing collected packages: keras-contrib\n",
            "Successfully installed keras-contrib-2.0.8\n"
          ],
          "name": "stdout"
        }
      ]
    },
    {
      "cell_type": "code",
      "metadata": {
        "id": "XDruK9y6jMLN"
      },
      "source": [
        "#Importing Libraries for: \n",
        "################################################################################\n",
        "\n",
        "#Numurical Calculations and Data Presentation:\n",
        "import pandas as pd\n",
        "import numpy as np\n",
        "\n",
        "#For Zeros Initializations:\n",
        "from numpy import zeros\n",
        "\n",
        "#For converting a given input to an array:\n",
        "from numpy import asarray\n",
        "\n",
        "#For Graph Ploting:\n",
        "import matplotlib.pyplot as plt\n",
        "\n",
        "#For Neural Nets Definition and Use:\n",
        "import keras\n",
        "import tensorflow as tf\n",
        "\n",
        "#For Padding Sequences:\n",
        "from keras.preprocessing.sequence import pad_sequences\n",
        "\n",
        "#For Splitting Data:\n",
        "from sklearn.model_selection import train_test_split\n",
        "\n",
        "#For Layers Definition:\n",
        "from keras.models import Sequential\n",
        "from keras.layers import Flatten\n",
        "from future.utils import iteritems\n",
        "from tensorflow.keras.utils import to_categorical\n",
        "from keras.models import Model, Input\n",
        "from keras.layers import LSTM, Embedding, Dense, TimeDistributed, Dropout, Bidirectional, Conv1D\n",
        "from keras.layers import  concatenate, SpatialDropout1D, GlobalMaxPooling1D, Activation, RepeatVector, Permute, Multiply, Lambda\n",
        "from keras_contrib.layers import CRF\n",
        "from keras import backend as K\n",
        "#For model saving and loading:\n",
        "import pickle"
      ],
      "execution_count": 2,
      "outputs": []
    },
    {
      "cell_type": "code",
      "metadata": {
        "colab": {
          "base_uri": "https://localhost:8080/",
          "height": 194
        },
        "id": "rh6X2gKLjSjw",
        "outputId": "b622744a-31cf-487b-8f7e-b1d37099615a"
      },
      "source": [
        "train_data = pd.read_csv(\"/content/drive/MyDrive/FreeLance_Projects/test embauche/TEST-DATASCIENTIST/PROBLEM2/train_data.csv\")\n",
        "test_data = pd.read_csv(\"/content/drive/MyDrive/FreeLance_Projects/test embauche/TEST-DATASCIENTIST/PROBLEM2/test_data.csv\")\n",
        "train_data.head()"
      ],
      "execution_count": 3,
      "outputs": [
        {
          "output_type": "execute_result",
          "data": {
            "text/html": [
              "<div>\n",
              "<style scoped>\n",
              "    .dataframe tbody tr th:only-of-type {\n",
              "        vertical-align: middle;\n",
              "    }\n",
              "\n",
              "    .dataframe tbody tr th {\n",
              "        vertical-align: top;\n",
              "    }\n",
              "\n",
              "    .dataframe thead th {\n",
              "        text-align: right;\n",
              "    }\n",
              "</style>\n",
              "<table border=\"1\" class=\"dataframe\">\n",
              "  <thead>\n",
              "    <tr style=\"text-align: right;\">\n",
              "      <th></th>\n",
              "      <th>Unnamed: 0</th>\n",
              "      <th>word</th>\n",
              "      <th>label_ttc</th>\n",
              "      <th>sentence</th>\n",
              "    </tr>\n",
              "  </thead>\n",
              "  <tbody>\n",
              "    <tr>\n",
              "      <th>0</th>\n",
              "      <td>0</td>\n",
              "      <td>ttc</td>\n",
              "      <td>O</td>\n",
              "      <td>sentence_1</td>\n",
              "    </tr>\n",
              "    <tr>\n",
              "      <th>1</th>\n",
              "      <td>1</td>\n",
              "      <td>640,00</td>\n",
              "      <td>TTC</td>\n",
              "      <td>sentence_1</td>\n",
              "    </tr>\n",
              "    <tr>\n",
              "      <th>2</th>\n",
              "      <td>2</td>\n",
              "      <td>total</td>\n",
              "      <td>O</td>\n",
              "      <td>sentence_2</td>\n",
              "    </tr>\n",
              "    <tr>\n",
              "      <th>3</th>\n",
              "      <td>3</td>\n",
              "      <td>a</td>\n",
              "      <td>O</td>\n",
              "      <td>sentence_2</td>\n",
              "    </tr>\n",
              "    <tr>\n",
              "      <th>4</th>\n",
              "      <td>4</td>\n",
              "      <td>payee</td>\n",
              "      <td>O</td>\n",
              "      <td>sentence_2</td>\n",
              "    </tr>\n",
              "  </tbody>\n",
              "</table>\n",
              "</div>"
            ],
            "text/plain": [
              "   Unnamed: 0    word label_ttc    sentence\n",
              "0           0     ttc         O  sentence_1\n",
              "1           1  640,00       TTC  sentence_1\n",
              "2           2   total         O  sentence_2\n",
              "3           3       a         O  sentence_2\n",
              "4           4   payee         O  sentence_2"
            ]
          },
          "metadata": {
            "tags": []
          },
          "execution_count": 3
        }
      ]
    },
    {
      "cell_type": "code",
      "metadata": {
        "id": "orbCXktJnKjy"
      },
      "source": [
        "train_data = train_data[['sentence', \"word\",\"label_ttc\"]]\n",
        "test_data = test_data[['sentence', \"word\", \"label_ttc\"]]"
      ],
      "execution_count": 4,
      "outputs": []
    },
    {
      "cell_type": "code",
      "metadata": {
        "colab": {
          "base_uri": "https://localhost:8080/",
          "height": 194
        },
        "id": "0Ko0h0tYmvyd",
        "outputId": "ad2a92b6-be86-4bf1-eabc-eb4b385bc035"
      },
      "source": [
        "train_data.tail()"
      ],
      "execution_count": 5,
      "outputs": [
        {
          "output_type": "execute_result",
          "data": {
            "text/html": [
              "<div>\n",
              "<style scoped>\n",
              "    .dataframe tbody tr th:only-of-type {\n",
              "        vertical-align: middle;\n",
              "    }\n",
              "\n",
              "    .dataframe tbody tr th {\n",
              "        vertical-align: top;\n",
              "    }\n",
              "\n",
              "    .dataframe thead th {\n",
              "        text-align: right;\n",
              "    }\n",
              "</style>\n",
              "<table border=\"1\" class=\"dataframe\">\n",
              "  <thead>\n",
              "    <tr style=\"text-align: right;\">\n",
              "      <th></th>\n",
              "      <th>sentence</th>\n",
              "      <th>word</th>\n",
              "      <th>label_ttc</th>\n",
              "    </tr>\n",
              "  </thead>\n",
              "  <tbody>\n",
              "    <tr>\n",
              "      <th>1611</th>\n",
              "      <td>sentence_342</td>\n",
              "      <td>total</td>\n",
              "      <td>O</td>\n",
              "    </tr>\n",
              "    <tr>\n",
              "      <th>1612</th>\n",
              "      <td>sentence_342</td>\n",
              "      <td>a</td>\n",
              "      <td>O</td>\n",
              "    </tr>\n",
              "    <tr>\n",
              "      <th>1613</th>\n",
              "      <td>sentence_342</td>\n",
              "      <td>payee</td>\n",
              "      <td>O</td>\n",
              "    </tr>\n",
              "    <tr>\n",
              "      <th>1614</th>\n",
              "      <td>sentence_342</td>\n",
              "      <td>350,001</td>\n",
              "      <td>O</td>\n",
              "    </tr>\n",
              "    <tr>\n",
              "      <th>1615</th>\n",
              "      <td>sentence_342</td>\n",
              "      <td>au</td>\n",
              "      <td>O</td>\n",
              "    </tr>\n",
              "  </tbody>\n",
              "</table>\n",
              "</div>"
            ],
            "text/plain": [
              "          sentence     word label_ttc\n",
              "1611  sentence_342    total         O\n",
              "1612  sentence_342        a         O\n",
              "1613  sentence_342    payee         O\n",
              "1614  sentence_342  350,001         O\n",
              "1615  sentence_342       au         O"
            ]
          },
          "metadata": {
            "tags": []
          },
          "execution_count": 5
        }
      ]
    },
    {
      "cell_type": "code",
      "metadata": {
        "colab": {
          "base_uri": "https://localhost:8080/"
        },
        "id": "ntRexvYU2jmD",
        "outputId": "e57d57ab-4933-4899-cef2-1c3cef9ce26f"
      },
      "source": [
        "# We start by building the words vocabulary:\n",
        "words_train = list(set(train_data[\"word\"].values))\n",
        "words_test = list(set(test_data[\"word\"].values))\n",
        "words = words_train + words_test\n",
        "\n",
        "words.append(\"UNK\") # we add \"UNK\" and \"ENDPAD\" tokens to the vocabulary in order to use them later\n",
        "words.append(\"ENDPAD\")\n",
        "\n",
        "n_words = len(words)\n",
        "print(\"The size of the word vocabulary is: \"+ str(n_words))"
      ],
      "execution_count": 6,
      "outputs": [
        {
          "output_type": "stream",
          "text": [
            "The size of the word vocabulary is: 390\n"
          ],
          "name": "stdout"
        }
      ]
    },
    {
      "cell_type": "code",
      "metadata": {
        "colab": {
          "base_uri": "https://localhost:8080/"
        },
        "id": "Tmfqa3z5cWgm",
        "outputId": "00757ac9-4977-40d3-fbf5-9b78a712562c"
      },
      "source": [
        "# Then building the Characters vocabulary:\n",
        "chars = set([w_i for w in words for w_i in w])\n",
        "\n",
        "n_chars = len(chars)\n",
        "print(\"The size of the character vocabulary is: \"+ str(n_chars))"
      ],
      "execution_count": 7,
      "outputs": [
        {
          "output_type": "stream",
          "text": [
            "The size of the character vocabulary is: 52\n"
          ],
          "name": "stdout"
        }
      ]
    },
    {
      "cell_type": "code",
      "metadata": {
        "colab": {
          "base_uri": "https://localhost:8080/"
        },
        "id": "jkHncyMR0bnJ",
        "outputId": "c9c5cfbd-b7a5-4e7b-b2aa-7c16c72b3535"
      },
      "source": [
        "# Then building the BIO_tags vocabulary:\n",
        "tags = list(set(train_data[\"label_ttc\"].values))\n",
        "\n",
        "n_tags = len(tags)\n",
        "print(\"The number of label_ttc is: \" + str(n_tags))"
      ],
      "execution_count": 8,
      "outputs": [
        {
          "output_type": "stream",
          "text": [
            "The number of label_ttc is: 2\n"
          ],
          "name": "stdout"
        }
      ]
    },
    {
      "cell_type": "code",
      "metadata": {
        "id": "mlWQS4o90kEC"
      },
      "source": [
        "class SentenceGetter(object):\n",
        "    \n",
        "    def __init__(self, data):\n",
        "        self.n_sent = 1\n",
        "        self.data = data\n",
        "        self.empty = False\n",
        "        agg_func = lambda s: [(w, t) for w, t in zip(s[\"word\"].values.tolist(),\n",
        "                                                           s[\"label_ttc\"].values.tolist())]\n",
        "        self.grouped = self.data.groupby(\"sentence\",sort=False).apply(agg_func)\n",
        "        self.sentences = [s for s in self.grouped]\n",
        "    \n",
        "    def get_next(self):\n",
        "        try:\n",
        "            s = self.grouped[\"sentence_{}\".format(self.n_sent)]\n",
        "            self.n_sent += 1\n",
        "            return s\n",
        "        except:\n",
        "            return None"
      ],
      "execution_count": 9,
      "outputs": []
    },
    {
      "cell_type": "code",
      "metadata": {
        "id": "FVkKczd303NW"
      },
      "source": [
        "getter = SentenceGetter(train_data)\n",
        "sentences_train = getter.sentences\n",
        "\n",
        "getter = SentenceGetter(test_data)\n",
        "sentences_test = getter.sentences\n",
        "\n",
        "sentences = sentences_train + sentences_test"
      ],
      "execution_count": 10,
      "outputs": []
    },
    {
      "cell_type": "code",
      "metadata": {
        "colab": {
          "base_uri": "https://localhost:8080/"
        },
        "id": "2sS1e0cJ43PX",
        "outputId": "ac205711-a5ad-47ea-ea5e-e60c3a1b5088"
      },
      "source": [
        "print(sentences[113])"
      ],
      "execution_count": 11,
      "outputs": [
        {
          "output_type": "stream",
          "text": [
            "[('total', 'O'), ('facture', 'O'), ('416,00', 'TTC')]\n"
          ],
          "name": "stdout"
        }
      ]
    },
    {
      "cell_type": "code",
      "metadata": {
        "colab": {
          "base_uri": "https://localhost:8080/"
        },
        "id": "eA2CLBQV1FAG",
        "outputId": "c6149155-bcbd-48d9-df0c-ec5fec353a2d"
      },
      "source": [
        "print(\"The number of sentences is: \" + str(len(sentences)))"
      ],
      "execution_count": 12,
      "outputs": [
        {
          "output_type": "stream",
          "text": [
            "The number of sentences is: 429\n"
          ],
          "name": "stdout"
        }
      ]
    },
    {
      "cell_type": "code",
      "metadata": {
        "colab": {
          "base_uri": "https://localhost:8080/"
        },
        "id": "DMPYNkjC1IMa",
        "outputId": "1f40f03f-3331-46b1-82bf-1979b6bc4116"
      },
      "source": [
        "max_len=max([len(s) for s in sentences])\n",
        "print(\"The longest sentence have a size of: \" + str(max_len))"
      ],
      "execution_count": 13,
      "outputs": [
        {
          "output_type": "stream",
          "text": [
            "The longest sentence have a size of: 14\n"
          ],
          "name": "stdout"
        }
      ]
    },
    {
      "cell_type": "code",
      "metadata": {
        "id": "aZDiymK01OLH"
      },
      "source": [
        "# Check how long sentences are so that we can pad them\n",
        "import matplotlib.pyplot as plt\n",
        "%matplotlib inline\n",
        "plt.style.use(\"ggplot\")"
      ],
      "execution_count": 14,
      "outputs": []
    },
    {
      "cell_type": "code",
      "metadata": {
        "colab": {
          "base_uri": "https://localhost:8080/",
          "height": 265
        },
        "id": "4_JrWm5v1RPr",
        "outputId": "a197a706-0fb4-4589-d012-bbdace156cf2"
      },
      "source": [
        "plt.hist([len(s) for s in sentences], bins=50)\n",
        "plt.show()"
      ],
      "execution_count": 15,
      "outputs": [
        {
          "output_type": "display_data",
          "data": {
            "image/png": "[encoded data removed]",
            "text/plain": [
              "<Figure size 432x288 with 1 Axes>"
            ]
          },
          "metadata": {
            "tags": []
          }
        }
      ]
    },
    {
      "cell_type": "code",
      "metadata": {
        "id": "L0XuDG6t1VNG"
      },
      "source": [
        "# Words dictionary that maps each word to an integer:\n",
        "word2idx = {w: i for i, w in enumerate(words)}\n",
        "\n",
        "# Characters dictionary that maps each Character to an integer:\n",
        "char2idx = {c: i + 2 for i, c in enumerate(chars)}\n",
        "char2idx[\"UNK\"] = 1\n",
        "char2idx[\"PAD\"] = 0\n",
        "\n",
        "# BIO tags dictionary that maps each BIO tag to an integer:\n",
        "tag2idx = {t: i for i, t in enumerate(tags)}\n",
        "idx2tag = {v: k for k, v in iteritems(tag2idx)}"
      ],
      "execution_count": 16,
      "outputs": []
    },
    {
      "cell_type": "code",
      "metadata": {
        "id": "lzug1BBO1zQU"
      },
      "source": [
        "# Build word input data in a form of list of sentences:\n",
        "X_word_train = [[word2idx[w[0]] for w in s] for s in sentences_train]\n",
        "X_word_test = [[word2idx[w[0]] for w in s] for s in sentences_test]\n",
        "\n",
        "# Padding the sentences by adding the same integer to all sentences in order to make them all equal in term of length:\n",
        "X_word_train = pad_sequences(maxlen=max_len, sequences=X_word_train, padding=\"post\", value=n_words - 1)\n",
        "X_word_test = pad_sequences(maxlen=max_len, sequences=X_word_test, padding=\"post\", value=n_words - 1)"
      ],
      "execution_count": 17,
      "outputs": []
    },
    {
      "cell_type": "code",
      "metadata": {
        "colab": {
          "base_uri": "https://localhost:8080/"
        },
        "id": "rpPFEBL136OP",
        "outputId": "762392bd-498e-4c94-a5f3-9bd9d317a77d"
      },
      "source": [
        "print(\"the shape of the word input data is: \" + str(X_word_train.shape))\n",
        "print(\"the shape of the word input data is: \" + str(X_word_test.shape))"
      ],
      "execution_count": 18,
      "outputs": [
        {
          "output_type": "stream",
          "text": [
            "the shape of the word input data is: (342, 14)\n",
            "the shape of the word input data is: (87, 14)\n"
          ],
          "name": "stdout"
        }
      ]
    },
    {
      "cell_type": "code",
      "metadata": {
        "colab": {
          "base_uri": "https://localhost:8080/"
        },
        "id": "0r2jA9Sk388T",
        "outputId": "51d0b004-6415-4fd0-d4ee-7ad6d1eefcd1"
      },
      "source": [
        "# The longest word in term of characters vocabulary:\n",
        "max_len_char=max([len(w) for w in words])\n",
        "print(\"The longest word have a size of: \" + str(max_len_char))"
      ],
      "execution_count": 19,
      "outputs": [
        {
          "output_type": "stream",
          "text": [
            "The longest word have a size of: 11\n"
          ],
          "name": "stdout"
        }
      ]
    },
    {
      "cell_type": "code",
      "metadata": {
        "id": "H5-71zHn4AiX"
      },
      "source": [
        "# Building and padding character input data in a form of list of sentences:\n",
        "X_char_train = []\n",
        "for sentence in sentences_train:\n",
        "    sent_seq = []\n",
        "    for i in range(max_len):\n",
        "        word_seq = []\n",
        "        for j in range(max_len_char):\n",
        "            try:\n",
        "                word_seq.append(char2idx.get(sentence[i][0][j]))\n",
        "            except:\n",
        "                word_seq.append(char2idx.get(\"PAD\"))\n",
        "        sent_seq.append(word_seq)\n",
        "    X_char_train.append(np.array(sent_seq))\n",
        "\n",
        "\n",
        "X_char_test = []\n",
        "for sentence in sentences_test:\n",
        "    sent_seq = []\n",
        "    for i in range(max_len):\n",
        "        word_seq = []\n",
        "        for j in range(max_len_char):\n",
        "            try:\n",
        "                word_seq.append(char2idx.get(sentence[i][0][j]))\n",
        "            except:\n",
        "                word_seq.append(char2idx.get(\"PAD\"))\n",
        "        sent_seq.append(word_seq)\n",
        "    X_char_test.append(np.array(sent_seq))"
      ],
      "execution_count": 20,
      "outputs": []
    },
    {
      "cell_type": "code",
      "metadata": {
        "colab": {
          "base_uri": "https://localhost:8080/"
        },
        "id": "0UjAmPz74MHw",
        "outputId": "ffb15cf2-aab9-4d23-c03a-ec4a6c9447c9"
      },
      "source": [
        "print(\"the shape of the X_char input data is: \" +\"(\"+ str(len(X_char_train)) +\",\"+ str(len(X_char_train[0])) +\")\")"
      ],
      "execution_count": 21,
      "outputs": [
        {
          "output_type": "stream",
          "text": [
            "the shape of the X_char input data is: (342,14)\n"
          ],
          "name": "stdout"
        }
      ]
    },
    {
      "cell_type": "code",
      "metadata": {
        "id": "Z_kk9gwV4TT4"
      },
      "source": [
        "# Build BIO_tag output data in a form of list of sentences:\n",
        "y_train = [[tag2idx[w[1]] for w in s] for s in sentences_train]\n",
        "y_test = [[tag2idx[w[1]] for w in s] for s in sentences_test]\n",
        "\n",
        "# Padding the sentences by adding the same integer to all sentences in order to make them all equal in term of length:\n",
        "y_train = pad_sequences(maxlen=max_len, sequences=y_train, padding=\"post\", value=tag2idx[\"O\"])\n",
        "y_test = pad_sequences(maxlen=max_len, sequences=y_test, padding=\"post\", value=tag2idx[\"O\"])\n",
        "\n",
        "# Encode the y data using one-hot encoding:\n",
        "y_train = [to_categorical(i, num_classes=n_tags) for i in y_train]\n",
        "y_test = [to_categorical(i, num_classes=n_tags) for i in y_test]"
      ],
      "execution_count": 22,
      "outputs": []
    },
    {
      "cell_type": "code",
      "metadata": {
        "colab": {
          "base_uri": "https://localhost:8080/"
        },
        "id": "SOT2Z4om4T6m",
        "outputId": "8d48b5c8-d3ea-474e-fa08-3bb394e74ad3"
      },
      "source": [
        "print(\"the shape of the BIO_tag input data is: \" + str(len(y_train)))"
      ],
      "execution_count": 23,
      "outputs": [
        {
          "output_type": "stream",
          "text": [
            "the shape of the BIO_tag input data is: 342\n"
          ],
          "name": "stdout"
        }
      ]
    },
    {
      "cell_type": "markdown",
      "metadata": {
        "id": "rgoO2CEI_tAP"
      },
      "source": [
        "### **Word Embedding:**\n"
      ]
    },
    {
      "cell_type": "code",
      "metadata": {
        "id": "7PozFytzQ4Cc"
      },
      "source": [
        "# import gensim\n",
        "# from gensim.models import Word2Vec\n",
        "# # load model\n",
        "# model = Word2Vec.load('/content/drive/MyDrive/Colab Notebooks/MDA NER/Word Embedding Generation/Word2Vec/Skipgram_model/Skipgram_model.bin')\n",
        "# print(model)"
      ],
      "execution_count": 24,
      "outputs": []
    },
    {
      "cell_type": "code",
      "metadata": {
        "id": "YlMHgZLNQ4FW"
      },
      "source": [
        "# def getList(dict): \n",
        "#     list = [] \n",
        "#     for key in dict.keys(): \n",
        "#         list.append(key) \n",
        "          \n",
        "#     return list\n",
        "\n",
        "# vocabulary = getList(model.wv.vocab)"
      ],
      "execution_count": 25,
      "outputs": []
    },
    {
      "cell_type": "code",
      "metadata": {
        "id": "5dNgtd6QQ4IR"
      },
      "source": [
        "# Word2Vec_dict = {}\n",
        "# for element in vocabulary:\n",
        "#     Word2Vec_dict[element] = model.wv[element].tolist()"
      ],
      "execution_count": 26,
      "outputs": []
    },
    {
      "cell_type": "code",
      "metadata": {
        "id": "Qph6wtqf__bQ"
      },
      "source": [
        "# # Load the whole embedding into memory\n",
        "# embeddings_index = dict()\n",
        "# for key, value in Word2Vec_dict.items():\n",
        "# \tword = key\n",
        "# \tcoefs = value\n",
        "# \tembeddings_index[word] = coefs\n",
        "# print('Loaded %s word vectors.' % len(embeddings_index))"
      ],
      "execution_count": 27,
      "outputs": []
    },
    {
      "cell_type": "markdown",
      "metadata": {
        "id": "-v94fOEnAEIC"
      },
      "source": [
        "Now we have built a dictionary that contains 486194 word vector, and 300 as a vector length."
      ]
    },
    {
      "cell_type": "markdown",
      "metadata": {
        "id": "viGxNvOXAH2E"
      },
      "source": [
        "Next, we will build a matrix that contains the training vocabulary with their equivalent vectors.\n",
        "This matrix will be given to the embedding layer to take it as weights, so if any cobinasion of words comes in the future as an input, the embedding layer will be able to represent it as a word2vec vectorization format."
      ]
    },
    {
      "cell_type": "code",
      "metadata": {
        "id": "1lQjdGHEVhSN"
      },
      "source": [
        "# # We need to know the words intersection between the vocab we have and the the vocab of the embeddings:\n",
        "# keys_a = set(word2idx.keys())\n",
        "# keys_b = set(embeddings_index.keys())\n",
        "# intersection = keys_a & keys_b"
      ],
      "execution_count": 28,
      "outputs": []
    },
    {
      "cell_type": "code",
      "metadata": {
        "id": "mirjVBp2iYzj"
      },
      "source": [
        "# len(intersection)"
      ],
      "execution_count": 29,
      "outputs": []
    },
    {
      "cell_type": "code",
      "metadata": {
        "id": "H1gWiWNBAL3j"
      },
      "source": [
        "# # create a weighted matrix for words in training docs\n",
        "# word_embedding_matrix = zeros((n_words, 100))\n",
        "# for word, i in word2idx.items():\n",
        "# \tembedding_vector = embeddings_index.get(word)\n",
        "# \tif embedding_vector is not None:\n",
        "# \t\tword_embedding_matrix[i] = embedding_vector"
      ],
      "execution_count": 30,
      "outputs": []
    },
    {
      "cell_type": "code",
      "metadata": {
        "id": "y-3typaYAUgo"
      },
      "source": [
        "# word_embedding_matrix.shape"
      ],
      "execution_count": 31,
      "outputs": []
    },
    {
      "cell_type": "markdown",
      "metadata": {
        "id": "FO1_64xF3YI3"
      },
      "source": [
        "### **Data Statistics:**"
      ]
    },
    {
      "cell_type": "code",
      "metadata": {
        "id": "2jzlMZKM3fsd"
      },
      "source": [
        "# print(\"The data vocabulary size: \", len(keys_a))\n",
        "# print(\"The embedding data vocabulary size: \", len(keys_b))\n",
        "# print(\"The percentage of embedding cover: \", (len(intersection)/len(keys_a))*100,\"%\")"
      ],
      "execution_count": 32,
      "outputs": []
    },
    {
      "cell_type": "markdown",
      "metadata": {
        "id": "Io_GfSg2-bj7"
      },
      "source": [
        "###**Building The Neural Networks:**\n",
        "<p>We start by defining the optimizer we will use to optimize the performance of the model while training</p>"
      ]
    },
    {
      "cell_type": "code",
      "metadata": {
        "id": "fc_32bjL9vBq"
      },
      "source": [
        "# Defining the learning rate:\n",
        "learning_rate = 0.0001\n",
        "\n",
        "# Defining the Adam optimizer:\n",
        "opt_name = \"Adam\"\n",
        "opt=tf.keras.optimizers.Adam(\n",
        "    learning_rate,\n",
        "    beta_1=0.9,\n",
        "    beta_2=0.999,\n",
        "    epsilon=1e-07,\n",
        "    amsgrad=False,\n",
        "    name=opt_name)"
      ],
      "execution_count": 33,
      "outputs": []
    },
    {
      "cell_type": "code",
      "metadata": {
        "colab": {
          "base_uri": "https://localhost:8080/"
        },
        "id": "z-wMbtwb-dv2",
        "outputId": "5f7aa4cf-9851-40a9-e78d-e45a460564e7"
      },
      "source": [
        "! pip install seqeval"
      ],
      "execution_count": 34,
      "outputs": [
        {
          "output_type": "stream",
          "text": [
            "Collecting seqeval\n",
            "\u001b[?25l  Downloading https://files.pythonhosted.org/packages/9d/2d/233c79d5b4e5ab1dbf111242299153f3caddddbb691219f363ad55ce783d/seqeval-1.2.2.tar.gz (43kB)\n",
            "\r\u001b[K     |███████▌                        | 10kB 14.9MB/s eta 0:00:01\r\u001b[K     |███████████████                 | 20kB 8.1MB/s eta 0:00:01\r\u001b[K     |██████████████████████▌         | 30kB 7.2MB/s eta 0:00:01\r\u001b[K     |██████████████████████████████  | 40kB 6.8MB/s eta 0:00:01\r\u001b[K     |████████████████████████████████| 51kB 3.2MB/s \n",
            "\u001b[?25hRequirement already satisfied: numpy>=1.14.0 in /usr/local/lib/python3.7/dist-packages (from seqeval) (1.19.5)\n",
            "Requirement already satisfied: scikit-learn>=0.21.3 in /usr/local/lib/python3.7/dist-packages (from seqeval) (0.22.2.post1)\n",
            "Requirement already satisfied: scipy>=0.17.0 in /usr/local/lib/python3.7/dist-packages (from scikit-learn>=0.21.3->seqeval) (1.4.1)\n",
            "Requirement already satisfied: joblib>=0.11 in /usr/local/lib/python3.7/dist-packages (from scikit-learn>=0.21.3->seqeval) (1.0.1)\n",
            "Building wheels for collected packages: seqeval\n",
            "  Building wheel for seqeval (setup.py) ... \u001b[?25l\u001b[?25hdone\n",
            "  Created wheel for seqeval: filename=seqeval-1.2.2-cp37-none-any.whl size=16184 sha256=f05fc783fd771f92a4b6a2a47e8fea96cdb2a656b5eab435da4c6f89f3077f72\n",
            "  Stored in directory: /root/.cache/pip/wheels/52/df/1b/45d75646c37428f7e626214704a0e35bd3cfc32eda37e59e5f\n",
            "Successfully built seqeval\n",
            "Installing collected packages: seqeval\n",
            "Successfully installed seqeval-1.2.2\n"
          ],
          "name": "stdout"
        }
      ]
    },
    {
      "cell_type": "code",
      "metadata": {
        "id": "_kLret90-kah"
      },
      "source": [
        "#------------------------- input and embedding for words: ----------------------\n",
        "word_in = Input(shape=(max_len,))\n",
        "\n",
        "emb_word = Embedding(input_dim=n_words,\n",
        "                     output_dim=100,\n",
        "                     embeddings_initializer=\"GlorotUniform\",\n",
        "                     input_length=max_len,\n",
        "                     trainable=True)(word_in)\n",
        "\n",
        "#---------------------- input and embedding for characters: --------------------\n",
        "char_in = Input(shape=(max_len, max_len_char,))\n",
        "\n",
        "emb_char = TimeDistributed(Embedding(input_dim=n_chars + 2, output_dim=10,\n",
        "                           input_length=max_len_char, mask_zero=True))(char_in)\n",
        "\n",
        "# character LSTM to get word encodings by characters\n",
        "char_enc = TimeDistributed(LSTM(units=20, return_sequences=False,\n",
        "                                recurrent_dropout=0.5))(emb_char)\n",
        "\n",
        "#----------------------------- Spacial Drop Out: -------------------------------\n",
        "# Spacial drop_out parameter:\n",
        "spacial_drop_out = 0.2\n",
        "\n",
        "# Spacial drop_out layer:\n",
        "x = concatenate([emb_word, char_enc])\n",
        "x = SpatialDropout1D(spacial_drop_out)(x)\n",
        "\n",
        "# -----------------------------1st LSTM Layer: ---------------------------------\n",
        "# lstm_1 parameters: \n",
        "lstm_1_num_units = 180\n",
        "lstm_1_activation = \"tanh\"\n",
        "lstm_1_dropout=0.2\n",
        "lstm_1_rec_activation = \"sigmoid\"\n",
        "lstm_1_rec_dropout=0.2\n",
        "\n",
        "# lstm_1 layer:\n",
        "lstm_1 = Bidirectional(LSTM(units=lstm_1_num_units,\n",
        "                             activation=lstm_1_activation,\n",
        "                             recurrent_activation=lstm_1_rec_activation,\n",
        "                             use_bias=True,\n",
        "                             kernel_initializer=\"glorot_uniform\",\n",
        "                             recurrent_initializer=\"orthogonal\",\n",
        "                             bias_initializer=\"zeros\",\n",
        "                             unit_forget_bias=True,\n",
        "                             kernel_regularizer=None,\n",
        "                             recurrent_regularizer=None,\n",
        "                             bias_regularizer=None,\n",
        "                             activity_regularizer=None,\n",
        "                             kernel_constraint=None,\n",
        "                             recurrent_constraint=None,\n",
        "                             bias_constraint=None,\n",
        "                             dropout=lstm_1_dropout,\n",
        "                             recurrent_dropout=lstm_1_rec_dropout,\n",
        "                             implementation=2,\n",
        "                             return_sequences=True,\n",
        "                             return_state=False,\n",
        "                             go_backwards=False,\n",
        "                             stateful=False))(x)\n",
        "\n",
        "# #----------------------------- 2nd LSTM Layer: ---------------------------------\n",
        "# lstm_2 parameters: \n",
        "lstm_2_num_units = 180\n",
        "lstm_2_activation = \"tanh\"\n",
        "lstm_2_dropout=0.2\n",
        "lstm_2_rec_activation = \"sigmoid\"\n",
        "lstm_2_rec_dropout=0.2\n",
        "\n",
        "# lstm_2 layer:\n",
        "lstm_2 = Bidirectional(LSTM(units=lstm_2_num_units,\n",
        "                             activation=lstm_2_activation,\n",
        "                             recurrent_activation=lstm_2_rec_activation,\n",
        "                             use_bias=True,\n",
        "                             kernel_initializer=\"glorot_uniform\",\n",
        "                             recurrent_initializer=\"orthogonal\",\n",
        "                             bias_initializer=\"zeros\",\n",
        "                             unit_forget_bias=True,\n",
        "                             kernel_regularizer=None,\n",
        "                             recurrent_regularizer=None,\n",
        "                             bias_regularizer=None,\n",
        "                             activity_regularizer=None,\n",
        "                             kernel_constraint=None,\n",
        "                             recurrent_constraint=None,\n",
        "                             bias_constraint=None,\n",
        "                             dropout=lstm_2_dropout,\n",
        "                             recurrent_dropout=lstm_2_rec_dropout,\n",
        "                             implementation=2,\n",
        "                             return_sequences=True,\n",
        "                             return_state=False,\n",
        "                             go_backwards=False,\n",
        "                             stateful=False))(lstm_1)   \n",
        "\n",
        "#----------------------------- Attention Layer: --------------------------------\n",
        "# compute importance for each step\n",
        "attention = Dense(units=1, activation='tanh')(lstm_2) \n",
        "attention = Lambda(lambda xin: K.sum(xin, axis=1))(attention)\n",
        "attention = Activation('softmax')(attention)\n",
        "attention = RepeatVector(lstm_2_num_units*2)(attention)\n",
        "attention = Permute([2, 1])(attention)\n",
        "\n",
        "# apply the attention\n",
        "sent_representation = Multiply()([lstm_2, attention])\n",
        "# sent_representation = Lambda(lambda xin: K.sum(xin, axis=1))(sent_representation)\n",
        "\n",
        "#----------------------------- TimeDist Layer: ---------------------------------\n",
        "out = TimeDistributed(Dense(units=n_tags,\n",
        "                                activation=\"softmax\", \n",
        "                                use_bias=True,\n",
        "                                kernel_initializer=\"glorot_uniform\",\n",
        "                                bias_initializer=\"zeros\",\n",
        "                                kernel_regularizer=None,\n",
        "                                bias_regularizer=None,\n",
        "                                activity_regularizer=None,\n",
        "                                kernel_constraint=None,\n",
        "                                bias_constraint=None))(sent_representation)\n",
        "\n",
        "#----------------------------- OutPut Layer: -----------------------------------\n",
        "model = Model(inputs=[word_in, char_in], outputs=out)\n",
        "\n",
        "#----------------------------- Model Compile: ----------------------------------\n",
        "loss=\"categorical_crossentropy\"\n",
        "model.compile(optimizer=opt, loss= loss )"
      ],
      "execution_count": 36,
      "outputs": []
    },
    {
      "cell_type": "code",
      "metadata": {
        "colab": {
          "base_uri": "https://localhost:8080/",
          "height": 1000
        },
        "id": "EDgqx2xqA0x3",
        "outputId": "2bf81ced-168c-4c67-f2eb-7254511a5b60"
      },
      "source": [
        "from keras.utils.vis_utils import plot_model\n",
        "plot_model(model, to_file='model_plot.png', show_shapes=True, show_layer_names=True)"
      ],
      "execution_count": 37,
      "outputs": [
        {
          "output_type": "execute_result",
          "data": {
            "image/png": "[encoded data removed]",
            "text/plain": [
              "<IPython.core.display.Image object>"
            ]
          },
          "metadata": {
            "tags": []
          },
          "execution_count": 37
        }
      ]
    },
    {
      "cell_type": "code",
      "metadata": {
        "colab": {
          "base_uri": "https://localhost:8080/"
        },
        "id": "n1pyAWgrA3nZ",
        "outputId": "48c534ba-1819-472c-df4d-09a19dc124eb"
      },
      "source": [
        "model.summary()"
      ],
      "execution_count": 38,
      "outputs": [
        {
          "output_type": "stream",
          "text": [
            "Model: \"model\"\n",
            "__________________________________________________________________________________________________\n",
            "Layer (type)                    Output Shape         Param #     Connected to                     \n",
            "==================================================================================================\n",
            "input_2 (InputLayer)            [(None, 14, 11)]     0                                            \n",
            "__________________________________________________________________________________________________\n",
            "input_1 (InputLayer)            [(None, 14)]         0                                            \n",
            "__________________________________________________________________________________________________\n",
            "time_distributed (TimeDistribut (None, 14, 11, 10)   540         input_2[0][0]                    \n",
            "__________________________________________________________________________________________________\n",
            "embedding (Embedding)           (None, 14, 100)      39000       input_1[0][0]                    \n",
            "__________________________________________________________________________________________________\n",
            "time_distributed_1 (TimeDistrib (None, 14, 20)       2480        time_distributed[0][0]           \n",
            "__________________________________________________________________________________________________\n",
            "concatenate (Concatenate)       (None, 14, 120)      0           embedding[0][0]                  \n",
            "                                                                 time_distributed_1[0][0]         \n",
            "__________________________________________________________________________________________________\n",
            "spatial_dropout1d (SpatialDropo (None, 14, 120)      0           concatenate[0][0]                \n",
            "__________________________________________________________________________________________________\n",
            "bidirectional (Bidirectional)   (None, 14, 360)      433440      spatial_dropout1d[0][0]          \n",
            "__________________________________________________________________________________________________\n",
            "bidirectional_1 (Bidirectional) (None, 14, 360)      779040      bidirectional[0][0]              \n",
            "__________________________________________________________________________________________________\n",
            "dense (Dense)                   (None, 14, 1)        361         bidirectional_1[0][0]            \n",
            "__________________________________________________________________________________________________\n",
            "lambda (Lambda)                 (None, 1)            0           dense[0][0]                      \n",
            "__________________________________________________________________________________________________\n",
            "activation (Activation)         (None, 1)            0           lambda[0][0]                     \n",
            "__________________________________________________________________________________________________\n",
            "repeat_vector (RepeatVector)    (None, 360, 1)       0           activation[0][0]                 \n",
            "__________________________________________________________________________________________________\n",
            "permute (Permute)               (None, 1, 360)       0           repeat_vector[0][0]              \n",
            "__________________________________________________________________________________________________\n",
            "multiply (Multiply)             (None, 14, 360)      0           bidirectional_1[0][0]            \n",
            "                                                                 permute[0][0]                    \n",
            "__________________________________________________________________________________________________\n",
            "time_distributed_2 (TimeDistrib (None, 14, 2)        722         multiply[0][0]                   \n",
            "==================================================================================================\n",
            "Total params: 1,255,583\n",
            "Trainable params: 1,255,583\n",
            "Non-trainable params: 0\n",
            "__________________________________________________________________________________________________\n"
          ],
          "name": "stdout"
        }
      ]
    },
    {
      "cell_type": "code",
      "metadata": {
        "colab": {
          "base_uri": "https://localhost:8080/"
        },
        "id": "_wPbR7pFA7Fv",
        "outputId": "4b6e5757-afb2-46af-8f24-c47611b56925"
      },
      "source": [
        "#history = model.fit(X_tr, np.array(y_tr), batch_size=32,callbacks=[f1score], epochs=2, validation_split=0.18, verbose=1)\n",
        "batch_size = 32\n",
        "epochs = 200\n",
        "history = model.fit([X_word_train, np.array(X_char_train).reshape((len(X_char_train), max_len, max_len_char))],np.array(y_train),\n",
        "                    # validation_data=([X_word_val, np.array(X_char_val).reshape((len(X_char_val), max_len, max_len_char))],np.array(y_val)),\n",
        "                    epochs = epochs,\n",
        "                    batch_size = batch_size,\n",
        "                    # callbacks=[f1_score],   \n",
        "                    verbose=1)"
      ],
      "execution_count": 39,
      "outputs": [
        {
          "output_type": "stream",
          "text": [
            "Epoch 1/200\n",
            "11/11 [==============================] - 54s 354ms/step - loss: 0.2367\n",
            "Epoch 2/200\n",
            "11/11 [==============================] - 4s 356ms/step - loss: 0.2209\n",
            "Epoch 3/200\n",
            "11/11 [==============================] - 4s 352ms/step - loss: 0.2116\n",
            "Epoch 4/200\n",
            "11/11 [==============================] - 4s 353ms/step - loss: 0.2066\n",
            "Epoch 5/200\n",
            "11/11 [==============================] - 4s 355ms/step - loss: 0.1742\n",
            "Epoch 6/200\n",
            "11/11 [==============================] - 4s 353ms/step - loss: 0.1599\n",
            "Epoch 7/200\n",
            "11/11 [==============================] - 4s 351ms/step - loss: 0.1512\n",
            "Epoch 8/200\n",
            "11/11 [==============================] - 4s 357ms/step - loss: 0.1436\n",
            "Epoch 9/200\n",
            "11/11 [==============================] - 4s 353ms/step - loss: 0.1458\n",
            "Epoch 10/200\n",
            "11/11 [==============================] - 4s 357ms/step - loss: 0.1417\n",
            "Epoch 11/200\n",
            "11/11 [==============================] - 4s 351ms/step - loss: 0.1378\n",
            "Epoch 12/200\n",
            "11/11 [==============================] - 4s 355ms/step - loss: 0.1378\n",
            "Epoch 13/200\n",
            "11/11 [==============================] - 4s 356ms/step - loss: 0.1354\n",
            "Epoch 14/200\n",
            "11/11 [==============================] - 4s 354ms/step - loss: 0.1234\n",
            "Epoch 15/200\n",
            "11/11 [==============================] - 4s 355ms/step - loss: 0.1264\n",
            "Epoch 16/200\n",
            "11/11 [==============================] - 4s 362ms/step - loss: 0.1190\n",
            "Epoch 17/200\n",
            "11/11 [==============================] - 4s 352ms/step - loss: 0.1102\n",
            "Epoch 18/200\n",
            "11/11 [==============================] - 4s 354ms/step - loss: 0.1101\n",
            "Epoch 19/200\n",
            "11/11 [==============================] - 4s 353ms/step - loss: 0.1019\n",
            "Epoch 20/200\n",
            "11/11 [==============================] - 4s 352ms/step - loss: 0.1071\n",
            "Epoch 21/200\n",
            "11/11 [==============================] - 4s 358ms/step - loss: 0.1034\n",
            "Epoch 22/200\n",
            "11/11 [==============================] - 4s 354ms/step - loss: 0.0938\n",
            "Epoch 23/200\n",
            "11/11 [==============================] - 4s 353ms/step - loss: 0.0893\n",
            "Epoch 24/200\n",
            "11/11 [==============================] - 4s 355ms/step - loss: 0.0940\n",
            "Epoch 25/200\n",
            "11/11 [==============================] - 4s 352ms/step - loss: 0.0933\n",
            "Epoch 26/200\n",
            "11/11 [==============================] - 4s 355ms/step - loss: 0.0871\n",
            "Epoch 27/200\n",
            "11/11 [==============================] - 4s 356ms/step - loss: 0.0790\n",
            "Epoch 28/200\n",
            "11/11 [==============================] - 4s 357ms/step - loss: 0.0857\n",
            "Epoch 29/200\n",
            "11/11 [==============================] - 4s 356ms/step - loss: 0.0741\n",
            "Epoch 30/200\n",
            "11/11 [==============================] - 4s 353ms/step - loss: 0.0646\n",
            "Epoch 31/200\n",
            "11/11 [==============================] - 4s 355ms/step - loss: 0.0648\n",
            "Epoch 32/200\n",
            "11/11 [==============================] - 4s 354ms/step - loss: 0.0672\n",
            "Epoch 33/200\n",
            "11/11 [==============================] - 4s 356ms/step - loss: 0.0644\n",
            "Epoch 34/200\n",
            "11/11 [==============================] - 4s 355ms/step - loss: 0.0613\n",
            "Epoch 35/200\n",
            "11/11 [==============================] - 4s 354ms/step - loss: 0.0548\n",
            "Epoch 36/200\n",
            "11/11 [==============================] - 4s 357ms/step - loss: 0.0616\n",
            "Epoch 37/200\n",
            "11/11 [==============================] - 4s 356ms/step - loss: 0.0583\n",
            "Epoch 38/200\n",
            "11/11 [==============================] - 4s 357ms/step - loss: 0.0489\n",
            "Epoch 39/200\n",
            "11/11 [==============================] - 4s 355ms/step - loss: 0.0504\n",
            "Epoch 40/200\n",
            "11/11 [==============================] - 4s 359ms/step - loss: 0.0433\n",
            "Epoch 41/200\n",
            "11/11 [==============================] - 4s 353ms/step - loss: 0.0414\n",
            "Epoch 42/200\n",
            "11/11 [==============================] - 4s 357ms/step - loss: 0.0392\n",
            "Epoch 43/200\n",
            "11/11 [==============================] - 4s 353ms/step - loss: 0.0349\n",
            "Epoch 44/200\n",
            "11/11 [==============================] - 4s 353ms/step - loss: 0.0355\n",
            "Epoch 45/200\n",
            "11/11 [==============================] - 4s 355ms/step - loss: 0.0362\n",
            "Epoch 46/200\n",
            "11/11 [==============================] - 4s 354ms/step - loss: 0.0307\n",
            "Epoch 47/200\n",
            "11/11 [==============================] - 4s 352ms/step - loss: 0.0285\n",
            "Epoch 48/200\n",
            "11/11 [==============================] - 4s 351ms/step - loss: 0.0272\n",
            "Epoch 49/200\n",
            "11/11 [==============================] - 4s 350ms/step - loss: 0.0230\n",
            "Epoch 50/200\n",
            "11/11 [==============================] - 4s 354ms/step - loss: 0.0217\n",
            "Epoch 51/200\n",
            "11/11 [==============================] - 4s 352ms/step - loss: 0.0184\n",
            "Epoch 52/200\n",
            "11/11 [==============================] - 4s 353ms/step - loss: 0.0142\n",
            "Epoch 53/200\n",
            "11/11 [==============================] - 4s 355ms/step - loss: 0.0130\n",
            "Epoch 54/200\n",
            "11/11 [==============================] - 4s 354ms/step - loss: 0.0141\n",
            "Epoch 55/200\n",
            "11/11 [==============================] - 4s 351ms/step - loss: 0.0106\n",
            "Epoch 56/200\n",
            "11/11 [==============================] - 4s 354ms/step - loss: 0.0078\n",
            "Epoch 57/200\n",
            "11/11 [==============================] - 4s 351ms/step - loss: 0.0069\n",
            "Epoch 58/200\n",
            "11/11 [==============================] - 4s 357ms/step - loss: 0.0065\n",
            "Epoch 59/200\n",
            "11/11 [==============================] - 4s 348ms/step - loss: 0.0057\n",
            "Epoch 60/200\n",
            "11/11 [==============================] - 4s 354ms/step - loss: 0.0042\n",
            "Epoch 61/200\n",
            "11/11 [==============================] - 4s 352ms/step - loss: 0.0050\n",
            "Epoch 62/200\n",
            "11/11 [==============================] - 4s 357ms/step - loss: 0.0040\n",
            "Epoch 63/200\n",
            "11/11 [==============================] - 4s 354ms/step - loss: 0.0039\n",
            "Epoch 64/200\n",
            "11/11 [==============================] - 4s 357ms/step - loss: 0.0030\n",
            "Epoch 65/200\n",
            "11/11 [==============================] - 4s 349ms/step - loss: 0.0029\n",
            "Epoch 66/200\n",
            "11/11 [==============================] - 4s 356ms/step - loss: 0.0031\n",
            "Epoch 67/200\n",
            "11/11 [==============================] - 4s 352ms/step - loss: 0.0025\n",
            "Epoch 68/200\n",
            "11/11 [==============================] - 4s 354ms/step - loss: 0.0042\n",
            "Epoch 69/200\n",
            "11/11 [==============================] - 4s 353ms/step - loss: 0.0022\n",
            "Epoch 70/200\n",
            "11/11 [==============================] - 4s 353ms/step - loss: 0.0024\n",
            "Epoch 71/200\n",
            "11/11 [==============================] - 4s 354ms/step - loss: 0.0028\n",
            "Epoch 72/200\n",
            "11/11 [==============================] - 4s 356ms/step - loss: 0.0022\n",
            "Epoch 73/200\n",
            "11/11 [==============================] - 4s 356ms/step - loss: 0.0017\n",
            "Epoch 74/200\n",
            "11/11 [==============================] - 4s 355ms/step - loss: 0.0014\n",
            "Epoch 75/200\n",
            "11/11 [==============================] - 4s 355ms/step - loss: 0.0014\n",
            "Epoch 76/200\n",
            "11/11 [==============================] - 4s 352ms/step - loss: 0.0016\n",
            "Epoch 77/200\n",
            "11/11 [==============================] - 4s 360ms/step - loss: 0.0017\n",
            "Epoch 78/200\n",
            "11/11 [==============================] - 4s 354ms/step - loss: 0.0016\n",
            "Epoch 79/200\n",
            "11/11 [==============================] - 4s 355ms/step - loss: 0.0018\n",
            "Epoch 80/200\n",
            "11/11 [==============================] - 4s 354ms/step - loss: 0.0018\n",
            "Epoch 81/200\n",
            "11/11 [==============================] - 4s 353ms/step - loss: 0.0011\n",
            "Epoch 82/200\n",
            "11/11 [==============================] - 4s 353ms/step - loss: 0.0012\n",
            "Epoch 83/200\n",
            "11/11 [==============================] - 4s 356ms/step - loss: 8.4648e-04\n",
            "Epoch 84/200\n",
            "11/11 [==============================] - 4s 353ms/step - loss: 9.2146e-04\n",
            "Epoch 85/200\n",
            "11/11 [==============================] - 4s 356ms/step - loss: 0.0011\n",
            "Epoch 86/200\n",
            "11/11 [==============================] - 4s 354ms/step - loss: 7.0536e-04\n",
            "Epoch 87/200\n",
            "11/11 [==============================] - 4s 354ms/step - loss: 7.9997e-04\n",
            "Epoch 88/200\n",
            "11/11 [==============================] - 4s 352ms/step - loss: 0.0013\n",
            "Epoch 89/200\n",
            "11/11 [==============================] - 4s 354ms/step - loss: 8.1890e-04\n",
            "Epoch 90/200\n",
            "11/11 [==============================] - 4s 352ms/step - loss: 9.1074e-04\n",
            "Epoch 91/200\n",
            "11/11 [==============================] - 4s 357ms/step - loss: 9.6353e-04\n",
            "Epoch 92/200\n",
            "11/11 [==============================] - 4s 359ms/step - loss: 9.2302e-04\n",
            "Epoch 93/200\n",
            "11/11 [==============================] - 4s 358ms/step - loss: 7.2300e-04\n",
            "Epoch 94/200\n",
            "11/11 [==============================] - 4s 353ms/step - loss: 0.0010\n",
            "Epoch 95/200\n",
            "11/11 [==============================] - 4s 355ms/step - loss: 4.0559e-04\n",
            "Epoch 96/200\n",
            "11/11 [==============================] - 4s 353ms/step - loss: 0.0012\n",
            "Epoch 97/200\n",
            "11/11 [==============================] - 4s 353ms/step - loss: 5.1389e-04\n",
            "Epoch 98/200\n",
            "11/11 [==============================] - 4s 354ms/step - loss: 7.6473e-04\n",
            "Epoch 99/200\n",
            "11/11 [==============================] - 4s 354ms/step - loss: 8.2292e-04\n",
            "Epoch 100/200\n",
            "11/11 [==============================] - 4s 354ms/step - loss: 5.0854e-04\n",
            "Epoch 101/200\n",
            "11/11 [==============================] - 4s 355ms/step - loss: 5.2302e-04\n",
            "Epoch 102/200\n",
            "11/11 [==============================] - 4s 352ms/step - loss: 4.1370e-04\n",
            "Epoch 103/200\n",
            "11/11 [==============================] - 4s 354ms/step - loss: 6.6079e-04\n",
            "Epoch 104/200\n",
            "11/11 [==============================] - 4s 358ms/step - loss: 4.5801e-04\n",
            "Epoch 105/200\n",
            "11/11 [==============================] - 4s 357ms/step - loss: 3.7063e-04\n",
            "Epoch 106/200\n",
            "11/11 [==============================] - 4s 355ms/step - loss: 4.8945e-04\n",
            "Epoch 107/200\n",
            "11/11 [==============================] - 4s 354ms/step - loss: 5.7074e-04\n",
            "Epoch 108/200\n",
            "11/11 [==============================] - 4s 355ms/step - loss: 3.1999e-04\n",
            "Epoch 109/200\n",
            "11/11 [==============================] - 4s 354ms/step - loss: 7.0330e-04\n",
            "Epoch 110/200\n",
            "11/11 [==============================] - 4s 355ms/step - loss: 5.1269e-04\n",
            "Epoch 111/200\n",
            "11/11 [==============================] - 4s 353ms/step - loss: 4.1757e-04\n",
            "Epoch 112/200\n",
            "11/11 [==============================] - 4s 355ms/step - loss: 3.1388e-04\n",
            "Epoch 113/200\n",
            "11/11 [==============================] - 4s 355ms/step - loss: 3.1218e-04\n",
            "Epoch 114/200\n",
            "11/11 [==============================] - 4s 353ms/step - loss: 4.7053e-04\n",
            "Epoch 115/200\n",
            "11/11 [==============================] - 4s 354ms/step - loss: 2.7305e-04\n",
            "Epoch 116/200\n",
            "11/11 [==============================] - 4s 352ms/step - loss: 3.4923e-04\n",
            "Epoch 117/200\n",
            "11/11 [==============================] - 4s 357ms/step - loss: 2.5193e-04\n",
            "Epoch 118/200\n",
            "11/11 [==============================] - 4s 355ms/step - loss: 3.8547e-04\n",
            "Epoch 119/200\n",
            "11/11 [==============================] - 4s 353ms/step - loss: 2.9620e-04\n",
            "Epoch 120/200\n",
            "11/11 [==============================] - 4s 354ms/step - loss: 3.8494e-04\n",
            "Epoch 121/200\n",
            "11/11 [==============================] - 4s 353ms/step - loss: 2.5609e-04\n",
            "Epoch 122/200\n",
            "11/11 [==============================] - 4s 354ms/step - loss: 2.5292e-04\n",
            "Epoch 123/200\n",
            "11/11 [==============================] - 4s 355ms/step - loss: 2.0467e-04\n",
            "Epoch 124/200\n",
            "11/11 [==============================] - 4s 351ms/step - loss: 5.6432e-04\n",
            "Epoch 125/200\n",
            "11/11 [==============================] - 4s 353ms/step - loss: 2.8368e-04\n",
            "Epoch 126/200\n",
            "11/11 [==============================] - 4s 350ms/step - loss: 2.3401e-04\n",
            "Epoch 127/200\n",
            "11/11 [==============================] - 4s 350ms/step - loss: 3.0979e-04\n",
            "Epoch 128/200\n",
            "11/11 [==============================] - 4s 355ms/step - loss: 2.7135e-04\n",
            "Epoch 129/200\n",
            "11/11 [==============================] - 4s 353ms/step - loss: 2.6073e-04\n",
            "Epoch 130/200\n",
            "11/11 [==============================] - 4s 355ms/step - loss: 2.2083e-04\n",
            "Epoch 131/200\n",
            "11/11 [==============================] - 4s 354ms/step - loss: 2.4375e-04\n",
            "Epoch 132/200\n",
            "11/11 [==============================] - 4s 353ms/step - loss: 1.7480e-04\n",
            "Epoch 133/200\n",
            "11/11 [==============================] - 4s 354ms/step - loss: 1.9133e-04\n",
            "Epoch 134/200\n",
            "11/11 [==============================] - 4s 353ms/step - loss: 3.5188e-04\n",
            "Epoch 135/200\n",
            "11/11 [==============================] - 4s 351ms/step - loss: 1.7150e-04\n",
            "Epoch 136/200\n",
            "11/11 [==============================] - 4s 357ms/step - loss: 2.0039e-04\n",
            "Epoch 137/200\n",
            "11/11 [==============================] - 4s 353ms/step - loss: 2.6257e-04\n",
            "Epoch 138/200\n",
            "11/11 [==============================] - 4s 355ms/step - loss: 2.1447e-04\n",
            "Epoch 139/200\n",
            "11/11 [==============================] - 4s 353ms/step - loss: 1.8545e-04\n",
            "Epoch 140/200\n",
            "11/11 [==============================] - 4s 351ms/step - loss: 2.2273e-04\n",
            "Epoch 141/200\n",
            "11/11 [==============================] - 4s 352ms/step - loss: 4.1349e-04\n",
            "Epoch 142/200\n",
            "11/11 [==============================] - 4s 354ms/step - loss: 1.9773e-04\n",
            "Epoch 143/200\n",
            "11/11 [==============================] - 4s 354ms/step - loss: 1.7835e-04\n",
            "Epoch 144/200\n",
            "11/11 [==============================] - 4s 359ms/step - loss: 1.2575e-04\n",
            "Epoch 145/200\n",
            "11/11 [==============================] - 4s 354ms/step - loss: 1.3965e-04\n",
            "Epoch 146/200\n",
            "11/11 [==============================] - 4s 355ms/step - loss: 1.6723e-04\n",
            "Epoch 147/200\n",
            "11/11 [==============================] - 4s 358ms/step - loss: 1.3683e-04\n",
            "Epoch 148/200\n",
            "11/11 [==============================] - 4s 352ms/step - loss: 1.7253e-04\n",
            "Epoch 149/200\n",
            "11/11 [==============================] - 4s 357ms/step - loss: 1.7922e-04\n",
            "Epoch 150/200\n",
            "11/11 [==============================] - 4s 354ms/step - loss: 1.3268e-04\n",
            "Epoch 151/200\n",
            "11/11 [==============================] - 4s 354ms/step - loss: 0.0012\n",
            "Epoch 152/200\n",
            "11/11 [==============================] - 4s 355ms/step - loss: 0.0019\n",
            "Epoch 153/200\n",
            "11/11 [==============================] - 4s 352ms/step - loss: 4.1925e-04\n",
            "Epoch 154/200\n",
            "11/11 [==============================] - 4s 358ms/step - loss: 6.0704e-04\n",
            "Epoch 155/200\n",
            "11/11 [==============================] - 4s 358ms/step - loss: 1.6572e-04\n",
            "Epoch 156/200\n",
            "11/11 [==============================] - 4s 354ms/step - loss: 1.8678e-04\n",
            "Epoch 157/200\n",
            "11/11 [==============================] - 4s 357ms/step - loss: 2.6769e-04\n",
            "Epoch 158/200\n",
            "11/11 [==============================] - 4s 353ms/step - loss: 1.1538e-04\n",
            "Epoch 159/200\n",
            "11/11 [==============================] - 4s 356ms/step - loss: 2.5609e-04\n",
            "Epoch 160/200\n",
            "11/11 [==============================] - 4s 352ms/step - loss: 1.6017e-04\n",
            "Epoch 161/200\n",
            "11/11 [==============================] - 4s 352ms/step - loss: 1.6897e-04\n",
            "Epoch 162/200\n",
            "11/11 [==============================] - 4s 357ms/step - loss: 1.4054e-04\n",
            "Epoch 163/200\n",
            "11/11 [==============================] - 4s 353ms/step - loss: 1.4132e-04\n",
            "Epoch 164/200\n",
            "11/11 [==============================] - 4s 355ms/step - loss: 1.4855e-04\n",
            "Epoch 165/200\n",
            "11/11 [==============================] - 4s 356ms/step - loss: 3.1777e-04\n",
            "Epoch 166/200\n",
            "11/11 [==============================] - 4s 354ms/step - loss: 1.4561e-04\n",
            "Epoch 167/200\n",
            "11/11 [==============================] - 4s 356ms/step - loss: 1.3339e-04\n",
            "Epoch 168/200\n",
            "11/11 [==============================] - 4s 353ms/step - loss: 1.2141e-04\n",
            "Epoch 169/200\n",
            "11/11 [==============================] - 4s 356ms/step - loss: 9.9236e-05\n",
            "Epoch 170/200\n",
            "11/11 [==============================] - 4s 357ms/step - loss: 1.0381e-04\n",
            "Epoch 171/200\n",
            "11/11 [==============================] - 4s 354ms/step - loss: 1.4832e-04\n",
            "Epoch 172/200\n",
            "11/11 [==============================] - 4s 354ms/step - loss: 8.6999e-05\n",
            "Epoch 173/200\n",
            "11/11 [==============================] - 4s 355ms/step - loss: 8.8538e-05\n",
            "Epoch 174/200\n",
            "11/11 [==============================] - 4s 353ms/step - loss: 1.1884e-04\n",
            "Epoch 175/200\n",
            "11/11 [==============================] - 4s 356ms/step - loss: 1.0746e-04\n",
            "Epoch 176/200\n",
            "11/11 [==============================] - 4s 353ms/step - loss: 1.3523e-04\n",
            "Epoch 177/200\n",
            "11/11 [==============================] - 4s 356ms/step - loss: 1.2402e-04\n",
            "Epoch 178/200\n",
            "11/11 [==============================] - 4s 352ms/step - loss: 8.6281e-05\n",
            "Epoch 179/200\n",
            "11/11 [==============================] - 4s 353ms/step - loss: 1.1809e-04\n",
            "Epoch 180/200\n",
            "11/11 [==============================] - 4s 354ms/step - loss: 1.2717e-04\n",
            "Epoch 181/200\n",
            "11/11 [==============================] - 4s 352ms/step - loss: 1.1410e-04\n",
            "Epoch 182/200\n",
            "11/11 [==============================] - 4s 356ms/step - loss: 8.3791e-05\n",
            "Epoch 183/200\n",
            "11/11 [==============================] - 4s 355ms/step - loss: 8.6827e-05\n",
            "Epoch 184/200\n",
            "11/11 [==============================] - 4s 353ms/step - loss: 7.4423e-05\n",
            "Epoch 185/200\n",
            "11/11 [==============================] - 4s 355ms/step - loss: 7.3662e-05\n",
            "Epoch 186/200\n",
            "11/11 [==============================] - 4s 354ms/step - loss: 5.8524e-05\n",
            "Epoch 187/200\n",
            "11/11 [==============================] - 4s 354ms/step - loss: 7.1036e-05\n",
            "Epoch 188/200\n",
            "11/11 [==============================] - 4s 356ms/step - loss: 5.5093e-05\n",
            "Epoch 189/200\n",
            "11/11 [==============================] - 4s 352ms/step - loss: 9.2651e-05\n",
            "Epoch 190/200\n",
            "11/11 [==============================] - 4s 353ms/step - loss: 8.2384e-05\n",
            "Epoch 191/200\n",
            "11/11 [==============================] - 4s 356ms/step - loss: 2.8078e-04\n",
            "Epoch 192/200\n",
            "11/11 [==============================] - 4s 353ms/step - loss: 1.1029e-04\n",
            "Epoch 193/200\n",
            "11/11 [==============================] - 4s 355ms/step - loss: 3.3488e-04\n",
            "Epoch 194/200\n",
            "11/11 [==============================] - 4s 354ms/step - loss: 1.4298e-04\n",
            "Epoch 195/200\n",
            "11/11 [==============================] - 4s 352ms/step - loss: 9.3844e-05\n",
            "Epoch 196/200\n",
            "11/11 [==============================] - 4s 355ms/step - loss: 4.1615e-04\n",
            "Epoch 197/200\n",
            "11/11 [==============================] - 4s 354ms/step - loss: 1.1850e-04\n",
            "Epoch 198/200\n",
            "11/11 [==============================] - 4s 353ms/step - loss: 8.4683e-05\n",
            "Epoch 199/200\n",
            "11/11 [==============================] - 4s 355ms/step - loss: 6.0664e-05\n",
            "Epoch 200/200\n",
            "11/11 [==============================] - 4s 357ms/step - loss: 6.0121e-05\n"
          ],
          "name": "stdout"
        }
      ]
    },
    {
      "cell_type": "markdown",
      "metadata": {
        "id": "JFuioNnApA4Q"
      },
      "source": [
        "## **Evaluation and Model Saving:**"
      ]
    },
    {
      "cell_type": "code",
      "metadata": {
        "colab": {
          "base_uri": "https://localhost:8080/"
        },
        "id": "6n8CFt3tpBYN",
        "outputId": "e8f37758-c150-4529-860b-b97f166c0c74"
      },
      "source": [
        "def pred2label(pred):\n",
        "    out = []\n",
        "    for pred_i in pred:\n",
        "        out_i = []\n",
        "        for p in pred_i:\n",
        "            p_i = np.argmax(p)\n",
        "            out_i.append(idx2tag[p_i])\n",
        "        out.append(out_i)\n",
        "    return out\n",
        "test_pred = model.predict([X_word_test, np.array(X_char_test).reshape((len(X_char_test), max_len, max_len_char))], verbose=1)   \n",
        "pred_labels = pred2label(test_pred)\n",
        "test_labels = pred2label(y_test)"
      ],
      "execution_count": 40,
      "outputs": [
        {
          "output_type": "stream",
          "text": [
            "3/3 [==============================] - 5s 68ms/step\n"
          ],
          "name": "stdout"
        }
      ]
    },
    {
      "cell_type": "code",
      "metadata": {
        "colab": {
          "base_uri": "https://localhost:8080/"
        },
        "id": "gma1jLdJpE_W",
        "outputId": "08c11b6d-095f-4553-978a-eccde1b2a708"
      },
      "source": [
        "from seqeval.metrics import precision_score, recall_score, f1_score, classification_report\n",
        "model_score = \"{:.1%}\".format(f1_score(test_labels, pred_labels))\n",
        "print(model_score)"
      ],
      "execution_count": 41,
      "outputs": [
        {
          "output_type": "stream",
          "text": [
            "95.9%\n"
          ],
          "name": "stdout"
        },
        {
          "output_type": "stream",
          "text": [
            "/usr/local/lib/python3.7/dist-packages/seqeval/metrics/sequence_labeling.py:171: UserWarning: TTC seems not to be NE tag.\n",
            "  warnings.warn('{} seems not to be NE tag.'.format(chunk))\n"
          ],
          "name": "stderr"
        }
      ]
    },
    {
      "cell_type": "code",
      "metadata": {
        "colab": {
          "base_uri": "https://localhost:8080/",
          "height": 337
        },
        "id": "TBKeOXLfpLsQ",
        "outputId": "bf1b2251-08d7-4267-e22b-99b3dbdd8b5f"
      },
      "source": [
        "# Plot the graph \n",
        "plt.style.use('ggplot')\n",
        "def plot_history(history):\n",
        "    #accuracy = history.history[f1score]\n",
        "    #val_accuracy = history.history['val_accuracy']\n",
        "    loss = history.history['loss']\n",
        "    # val_loss = history.history['val_loss']\n",
        "    x = range(1, len(loss) + 1)\n",
        "\n",
        "    plt.figure(figsize=(12, 5))\n",
        "    #plt.subplot(1, 2, 1)\n",
        "    #plt.plot(x, accuracy, 'b', label='Training acc')\n",
        "    #plt.plot(x, val_accuracy, 'r', label='Validation acc')\n",
        "    #plt.title('Training and validation accuracy')\n",
        "    #plt.legend()\n",
        "    plt.subplot(1, 2, 2)\n",
        "    plt.plot(x, loss, 'b', label='Training loss')\n",
        "    # plt.plot(x, val_loss, 'r', label='Validation loss')\n",
        "    plt.title('Training and validation loss')\n",
        "    plt.legend()\n",
        "\n",
        "    # Save the loss curve figure as PNG.\n",
        "    #plt.savefig(root_path + str(num_of_test) + emb_tech + data_set + str(model_score) + '_loss-curve.jpeg')\n",
        "plot_history(history)"
      ],
      "execution_count": 42,
      "outputs": [
        {
          "output_type": "display_data",
          "data": {
            "image/png": "[encoded data removed]",
            "text/plain": [
              "<Figure size 864x360 with 1 Axes>"
            ]
          },
          "metadata": {
            "tags": []
          }
        }
      ]
    },
    {
      "cell_type": "code",
      "metadata": {
        "colab": {
          "base_uri": "https://localhost:8080/"
        },
        "id": "BWrI7urvpOOA",
        "outputId": "9adcf66b-a29c-483d-9610-f540a294cfac"
      },
      "source": [
        "from seqeval.metrics import precision_score, recall_score, f1_score, classification_report\n",
        "print(\"F1-score:\" + model_score)\n",
        "print(\"F1-score_summary: {:.1%}\",classification_report(test_labels, pred_labels))"
      ],
      "execution_count": 43,
      "outputs": [
        {
          "output_type": "stream",
          "text": [
            "F1-score:95.9%\n",
            "F1-score_summary: {:.1%}               precision    recall  f1-score   support\n",
            "\n",
            "          TC       0.96      0.95      0.96        86\n",
            "\n",
            "   micro avg       0.96      0.95      0.96        86\n",
            "   macro avg       0.96      0.95      0.96        86\n",
            "weighted avg       0.96      0.95      0.96        86\n",
            "\n"
          ],
          "name": "stdout"
        },
        {
          "output_type": "stream",
          "text": [
            "/usr/local/lib/python3.7/dist-packages/seqeval/metrics/sequence_labeling.py:171: UserWarning: TTC seems not to be NE tag.\n",
            "  warnings.warn('{} seems not to be NE tag.'.format(chunk))\n"
          ],
          "name": "stderr"
        }
      ]
    }
  ]
}